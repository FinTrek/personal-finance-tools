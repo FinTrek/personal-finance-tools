{
 "cells": [
  {
   "cell_type": "markdown",
   "metadata": {},
   "source": [
    "# define inputs"
   ]
  },
  {
   "cell_type": "code",
   "execution_count": 15,
   "metadata": {
    "collapsed": true
   },
   "outputs": [],
   "source": [
    "## defines constant to change\n",
    "Return = 0.07\n",
    "years = 5\n",
    "starting_tfsa = 55000\n",
    "TFSA_cont = 5500\n",
    "starting_rrsp = 25000\n",
    "income = 105000\n",
    "rrsp_cont = min(26000,income * 0.18)\n",
    "starting_general = 150000\n",
    "general_cont = 2000"
   ]
  },
  {
   "cell_type": "code",
   "execution_count": 16,
   "metadata": {
    "collapsed": true
   },
   "outputs": [],
   "source": [
    "import matplotlib.pyplot as plt\n",
    "import numpy as np\n",
    "import pandas as pd  \n",
    "\n"
   ]
  },
  {
   "cell_type": "code",
   "execution_count": 24,
   "metadata": {
    "collapsed": true
   },
   "outputs": [],
   "source": [
    "##makes function to calaulate the year over year cost\n",
    "def calculate(MER, AMF, balance, Trading_fee):\n",
    "    new = balance*(1 + Return - MER) - AMF - Trading_fee\n",
    "    tot_MER = (balance*(1 + Return) - new)/balance\n",
    "    Tot_return = new/balance\n",
    "    return new, tot_MER, Tot_return;\n",
    "\n",
    "## aggregates for standard constant fee structue.  If they change Custom functions will be used\n",
    "def aggregate(MER, AMF, balance, trading_fee):\n",
    "    values = np.zeros( (years,3) )\n",
    "    values[0] = calculate(MER, AMF, balance, trading_fee)\n",
    "    for year in range(years):\n",
    "        if year >0:\n",
    "            values[year] = calculate(MER, AMF, values[year-1,0] + TFSA_cont + rrsp_cont + general_cont, trading_fee)\n",
    "    return values\n",
    "\n",
    "\n",
    "\n",
    "## RBC domionion secutires\n",
    "def RBC_agg(MER, AMF, balance, trading_fee):\n",
    "    values = np.zeros( (years,3) )\n",
    "    TFSA = np.zeros ((years,3))\n",
    "    TFSA[0] = starting_tfsa + TFSA_cont\n",
    "    values[0] = calculate(MER, AMF + 0.01*TFSA[0,0], balance, trading_fee)\n",
    "    for year in range(years):\n",
    "        if year >0:\n",
    "            TFSA[year] = calculate(MER, 0.01*TFSA[year-1,0], TFSA[year-1,0]+ TFSA_cont, trading_fee)\n",
    "            values[year] = calculate(MER, AMF + 0.01*TFSA[year,0], values[year-1,0] + TFSA_cont + rrsp_cont + general_cont, trading_fee)\n",
    "    return values\n",
    "\n",
    "\n",
    "\n",
    "\n",
    "\n",
    "\n",
    "\n",
    "##wealth simple  assumes MER of 0.2%\n",
    "def wealth_simple_agg(MER, AMF, balance, trading_fee):\n",
    "    values = np.zeros( (years,3) )\n",
    "    if balance > 100000:\n",
    "        values[0] = calculate(0.006, AMF, balance, trading_fee)\n",
    "    else:\n",
    "        values[0] = calculate(0.007, AMF, balance, trading_fee)\n",
    "    for year in range(years):\n",
    "        if year >0:\n",
    "            if values[year-1,0] + TFSA_cont + rrsp_cont + general_cont > 100000:\n",
    "                values[year] = calculate(0.006, AMF, values[year-1,0] + TFSA_cont + rrsp_cont + general_cont, trading_fee)\n",
    "            else:\n",
    "                values[year] = calculate(0.007, AMF, values[year-1,0] + TFSA_cont + rrsp_cont + general_cont, trading_fee)               \n",
    "    return values\n",
    "\n",
    "\n",
    "## Nest wealth  webiste claims MER is 0.13%\n",
    "def nest_wealth_agg(MER, AMF, balance, trading_fee):\n",
    "    values = np.zeros( (years,3) )\n",
    "    if balance < 75000:\n",
    "        values[0] = calculate(MER, 415, balance, trading_fee)\n",
    "    elif balance < 150000 & balance:\n",
    "        values[0] = calculate(MER, 655, balance, trading_fee)\n",
    "    else:\n",
    "        values[0] = calculate(MER, 1135, balance, trading_fee)\n",
    "    for year in range(years):\n",
    "        if year >0:\n",
    "            if values[year-1,0] + TFSA_cont + rrsp_cont + general_cont < 75000:\n",
    "                values[year] = calculate(MER, 415, values[year-1,0] + TFSA_cont + rrsp_cont + general_cont, trading_fee)\n",
    "            elif values[year-1,0] + TFSA_cont + rrsp_cont + general_cont < 150000:\n",
    "                values[year] = calculate(MER, 655, values[year-1,0] + TFSA_cont + rrsp_cont + general_cont, trading_fee)  \n",
    "            else:\n",
    "                values[year] = calculate(MER, 1135, values[year-1,0] + TFSA_cont + rrsp_cont + general_cont, trading_fee) \n",
    "    return values\n",
    "\n",
    "## says funds have an MER of 0.20% to 0.35%\n",
    "def bmo_smartfolio_agg(MER, AMF, balance, trading_fee):\n",
    "    values = np.zeros( (years,3) )\n",
    "    if  balance < 100000:\n",
    "        MER = 0.007\n",
    "    elif balance < 250000:\n",
    "        MER = (100000*0.007 + (balance-100000)*0.006)/balance\n",
    "    elif balance < 500000:\n",
    "        MER = (100000*0.007 + 150000*0.006 + (balance - 250000)*0.005)/balance\n",
    "    else:\n",
    "        MER = (100000*0.007 + 150000*0.006 + 250000*0.005 +(balance - 500000)*0.004)/balance\n",
    "    MER = MER + 0.0025\n",
    "    values[0] = calculate(MER, AMF, balance, trading_fee)\n",
    "    for year in range(years):\n",
    "        if year >0:\n",
    "            if  balance < 100000:\n",
    "                MER = 0.007\n",
    "            elif balance < 250000:\n",
    "                MER = (100000*0.007 + (balance-100000)*0.006)/balance\n",
    "            elif balance < 500000:\n",
    "                MER = (100000*0.007 + 150000*0.006 + (balance - 250000)*0.005)/balance\n",
    "            else:\n",
    "                MER = (100000*0.007 + 150000*0.006 + 250000*0.005 +(balance - 500000)*0.004)/balance\n",
    "            MER = MER + 0.0025\n",
    "            values[year] = calculate(MER, AMF, values[year-1,0] + TFSA_cont + rrsp_cont + general_cont, trading_fee) \n",
    "    return values\n",
    "\n",
    "\n",
    "\n",
    "## wleathbar\n",
    "def wealthbar(MER, AMF, balance, trading_fee):\n",
    "    values = np.zeros( (years,3) )\n",
    "    if  balance < 150000:\n",
    "        MER = (max(0,balance - 5000)*0.006)/balance\n",
    "    elif balance < 500000:\n",
    "        MER = (145000*0.006 + (balance-150000)*0.004)/balance\n",
    "    else:\n",
    "        MER = (145000*0.006 +350000*0.004 + (balance - 500000)*0.0035)/balance\n",
    "    MER = MER + 0.0033\n",
    "    values[0] = calculate(MER, AMF, balance, trading_fee)\n",
    "    for year in range(years):\n",
    "        if year >0:\n",
    "               if  balance < 150000:\n",
    "                   MER = (max(0,balance - 5000)*0.006)/balance\n",
    "               elif balance < 500000:\n",
    "                   MER = (145000*0.006 + (balance-150000)*0.004)/balance\n",
    "               else:\n",
    "                   MER = (145000*0.006 +350000*0.004 + (balance - 500000)*0.0035)/balance \n",
    "               MER = MER + 0.0033\n",
    "               values[year] = calculate(MER, AMF, values[year-1,0] + TFSA_cont + rrsp_cont + general_cont, trading_fee) \n",
    "    return values\n",
    "\n",
    "\n",
    "\n",
    "\n",
    "## says MER range from 0.21 to 1.21%\n",
    "def port_iq(MER, AMF, balance, trading_fee):\n",
    "    values = np.zeros( (years,3) )\n",
    "    if balance < 100000:\n",
    "        values[0] = calculate(0.009, AMF, balance, trading_fee)\n",
    "    elif balance < 250000 & balance:\n",
    "        values[0] = calculate(0.008, AMF, balance, trading_fee)\n",
    "    elif balance < 500000 & balance:\n",
    "        values[0] = calculate(0.007, AMF, balance, trading_fee)\n",
    "    elif balance < 1000000 & balance:\n",
    "        values[0] = calculate(0.006, AMF, balance, trading_fee)\n",
    "    else:\n",
    "        values[0] = calculate(0.0055, AMF, balance, trading_fee)\n",
    "    for year in range(years):\n",
    "        if year >0:\n",
    "            if values[year-1,0] + TFSA_cont + rrsp_cont + general_cont < 100000:\n",
    "                values[year] = calculate(0.009, AMF, values[year-1,0] + TFSA_cont + rrsp_cont + general_cont, trading_fee)\n",
    "            elif values[year-1,0] + TFSA_cont + rrsp_cont + general_cont < 250000:\n",
    "                values[year] = calculate(0.008, AMF, values[year-1,0] + TFSA_cont + rrsp_cont + general_cont, trading_fee)  \n",
    "            elif values[year-1,0] + TFSA_cont + rrsp_cont + general_cont < 500000:\n",
    "                values[year] = calculate(0.007, AMF, values[year-1,0] + TFSA_cont + rrsp_cont + general_cont, trading_fee) \n",
    "            elif values[year-1,0] + TFSA_cont + rrsp_cont + general_cont < 1000000:\n",
    "                values[year] = calculate(0.006, AMF, values[year-1,0] + TFSA_cont + rrsp_cont + general_cont, trading_fee) \n",
    "            else:\n",
    "                values[year] = calculate(0.0055, AMF, values[year-1,0] + TFSA_cont + rrsp_cont + general_cont, trading_fee) \n",
    "    return values\n",
    "\n",
    "## Modern advisor webiste sights that MER is 0.25% for underlying funds\n",
    "def modern_ad(MER, AMF, balance, trading_fee):\n",
    "    values = np.zeros( (years,3) )\n",
    "    if balance < 10000:\n",
    "        values[0] = calculate(0.0025, AMF, balance, trading_fee)\n",
    "    elif balance < 100000 & balance:\n",
    "        values[0] = calculate(0.0075, AMF, balance, trading_fee)\n",
    "    elif balance < 500000 & balance:\n",
    "        values[0] = calculate(0.0065, AMF, balance, trading_fee)\n",
    "    else:\n",
    "        values[0] = calculate(0.006, AMF, balance, trading_fee)\n",
    "    for year in range(years):\n",
    "        if year >0:\n",
    "            if values[year-1,0] + TFSA_cont + rrsp_cont + general_cont < 10000:\n",
    "                values[year] = calculate(0.0025, AMF, values[year-1,0] + TFSA_cont + rrsp_cont + general_cont, trading_fee)\n",
    "            elif values[year-1,0] + TFSA_cont + rrsp_cont + general_cont < 100000:\n",
    "                values[year] = calculate(0.0075, AMF, values[year-1,0] + TFSA_cont + rrsp_cont + general_cont, trading_fee)  \n",
    "            elif values[year-1,0] + TFSA_cont + rrsp_cont + general_cont < 500000:\n",
    "                values[year] = calculate(0.0065, AMF, values[year-1,0] + TFSA_cont + rrsp_cont + general_cont, trading_fee) \n",
    "            else:\n",
    "                values[year] = calculate(0.006, AMF, values[year-1,0] + TFSA_cont + rrsp_cont + general_cont, trading_fee) \n",
    "    return values\n",
    "\n",
    "\n",
    "## Just wealth MER's are assumed to be standard 0.25% listed on their website\n",
    "def just_wealth(MER, AMF, balance, trading_fee):\n",
    "    values = np.zeros( (years,3) )\n",
    "    if balance < 500000:\n",
    "        values[0] = calculate(0.0075, AMF, balance, trading_fee)\n",
    "    else:\n",
    "        values[0] = calculate(0.0065, AMF, balance, trading_fee)\n",
    "    for year in range(years):\n",
    "        if year >0:\n",
    "            if values[year-1,0] + TFSA_cont + rrsp_cont + general_cont < 500000:\n",
    "                values[year] = calculate(0.0075, AMF, values[year-1,0] + TFSA_cont + rrsp_cont + general_cont, trading_fee)\n",
    "            else:\n",
    "                values[year] = calculate(0.0065, AMF, values[year-1,0] + TFSA_cont + rrsp_cont + general_cont, trading_fee) \n",
    "    return values\n",
    "\n",
    "\n",
    "years = years + 1"
   ]
  },
  {
   "cell_type": "code",
   "execution_count": 25,
   "metadata": {
    "collapsed": true
   },
   "outputs": [],
   "source": [
    "## function calls\n",
    "wealth_simple = wealth_simple_agg(0.006,0,starting_tfsa + starting_rrsp +starting_general, 0)\n",
    "## takes my MER of 0.63% from my employer sunlife plan\n",
    "sun_life = aggregate(0.0064,0,starting_tfsa + starting_rrsp +starting_general, 0)\n",
    "## took a quated 2,25% from BMO's webiste\n",
    "Mutual_fund = aggregate(0.0225,0,starting_tfsa + starting_rrsp +starting_general, 0)\n",
    "##tangerine has 1.07% listed on their webiste.\n",
    "tangerine = aggregate(0.0107,0,starting_tfsa + starting_rrsp +starting_general, 0)\n",
    "DIY_ETF = aggregate(0.0016,0,starting_tfsa + starting_rrsp +starting_general, 60)\n",
    "nestwealth = nest_wealth_agg(0.0013,0,starting_tfsa + starting_rrsp +starting_general, 300)\n",
    "BMO_smartfolio = bmo_smartfolio_agg(0.009,0,starting_tfsa + starting_rrsp +starting_general,0)\n",
    "Questrade_port_iq = port_iq(0.009,0,starting_tfsa + starting_rrsp +starting_general,0)\n",
    "wealth_bar = wealthbar(0.009,0,starting_tfsa + starting_rrsp +starting_general,0)\n",
    "modern_advisor = modern_ad(0.009,0,starting_tfsa + starting_rrsp +starting_general,0)\n",
    "Just_wealth_port =just_wealth(0.009,0,starting_tfsa + starting_rrsp +starting_general,0)\n",
    "## could not find invisors MER of underlying funds.  I will assume it's 0.18%\n",
    "invisor = tangerine = aggregate(0.0068,0,starting_tfsa + starting_rrsp +starting_general, 0)\n",
    "RBC_dom = RBC_agg(0.0018,125,starting_tfsa + starting_rrsp +starting_general, 300)\n",
    "    \n",
    "    \n",
    "    \n",
    "    "
   ]
  },
  {
   "cell_type": "code",
   "execution_count": 26,
   "metadata": {
    "collapsed": true,
    "scrolled": true
   },
   "outputs": [],
   "source": [
    "## makes list for the years list\n",
    "year_list = []\n",
    "for x in range(years):\n",
    "    year_list.append(x)"
   ]
  },
  {
   "cell_type": "code",
   "execution_count": 27,
   "metadata": {
    "collapsed": true,
    "scrolled": false
   },
   "outputs": [],
   "source": [
    "## set x to be 0 for value, 1 for MER and 3 for total return \n",
    "x=1"
   ]
  },
  {
   "cell_type": "code",
   "execution_count": 28,
   "metadata": {},
   "outputs": [
    {
     "data": {
      "text/plain": [
       "[<matplotlib.lines.Line2D at 0x11b451390>]"
      ]
     },
     "execution_count": 28,
     "metadata": {},
     "output_type": "execute_result"
    },
    {
     "data": {
      "image/png": "[encoded data removed]",
      "text/plain": [
       "<matplotlib.figure.Figure at 0x11ae07320>"
      ]
     },
     "metadata": {},
     "output_type": "display_data"
    }
   ],
   "source": [
    "%matplotlib inline\n",
    "\n",
    "# These are the \"Tableau 20\" colors as RGB.    \n",
    "tableau20 = [(31, 119, 180), (174, 199, 232), (255, 127, 14), (255, 187, 120),    \n",
    "             (44, 160, 44), (152, 223, 138), (214, 39, 40), (255, 152, 150),    \n",
    "             (148, 103, 189), (197, 176, 213), (140, 86, 75), (196, 156, 148),    \n",
    "             (227, 119, 194), (247, 182, 210), (127, 127, 127), (199, 199, 199),    \n",
    "             (188, 189, 34), (219, 219, 141), (23, 190, 207), (158, 218, 229)]    \n",
    "  \n",
    "# Scale the RGB values to the [0, 1] range, which is the format matplotlib accepts.    \n",
    "for i in range(len(tableau20)):    \n",
    "    r, g, b = tableau20[i]    \n",
    "    tableau20[i] = (r / 255., g / 255., b / 255.)    \n",
    "  \n",
    "# You typically want your plot to be ~1.33x wider than tall. This plot is a rare    \n",
    "# exception because of the number of lines being plotted on it.    \n",
    "# Common sizes: (10, 7.5) and (12, 9)    \n",
    "plt.figure(figsize=(12, 14))    \n",
    "# Remove the plot frame lines. They are unnecessary chartjunk.    \n",
    "ax = plt.subplot(111)    \n",
    "ax.spines[\"top\"].set_visible(False)    \n",
    "ax.spines[\"bottom\"].set_visible(False)    \n",
    "ax.spines[\"right\"].set_visible(False)    \n",
    "ax.spines[\"left\"].set_visible(False) \n",
    "\n",
    "\n",
    "# Ensure that the axis ticks only show up on the bottom and left of the plot.    \n",
    "# Ticks on the right and top of the plot are generally unnecessary chartjunk.    \n",
    "ax.get_xaxis().tick_bottom()    \n",
    "ax.get_yaxis().tick_left()    \n",
    "\n",
    "# Now that the plot is prepared, it's time to actually plot the data!    \n",
    "# Note that I plotted the majors in order of the highest % in the final year.    \n",
    "Adviosrs = ['Wealth Simple', 'Sun Life', 'Mutual funds', 'Tangerine', 'Nest Wealth',\n",
    "            'DIY ETFs', 'BMO Smartfolio', 'Questrade portfolio IQ', 'Wealth Bar', \n",
    "            'Modern Advisor','Just Wealth',  'Invisor', 'RBC Domionion securities']\n",
    "\n",
    "## total return\n",
    "plt.plot(year_list, wealth_simple[:,x],lw=2.5, color=tableau20[0])\n",
    "plt.plot(year_list, sun_life[:,x],lw=2.5, color=tableau20[1])\n",
    "plt.plot(year_list, Mutual_fund[:,x],lw=2.5, color=tableau20[2])\n",
    "plt.plot(year_list, tangerine[:,x],lw=2.5, color=tableau20[3])\n",
    "plt.plot(year_list, nestwealth[:,x],lw=2.5, color=tableau20[4])\n",
    "plt.plot(year_list, DIY_ETF[:,x],lw=2.5, color=tableau20[5])\n",
    "plt.plot(year_list, BMO_smartfolio[:,x],lw=2.5, color=tableau20[6])\n",
    "plt.plot(year_list, Questrade_port_iq[:,x],lw=2.5, color=tableau20[7])\n",
    "plt.plot(year_list, wealth_bar[:,x],lw=2.5, color=tableau20[8])\n",
    "plt.plot(year_list, modern_advisor[:,x],lw=2.5, color=tableau20[9])\n",
    "plt.plot(year_list, Just_wealth_port[:,x],lw=2.5, color=tableau20[10])\n",
    "plt.plot(year_list, invisor[:,x],lw=2.5, color=tableau20[11])\n",
    "plt.plot(year_list, RBC_dom[:,x],lw=2.5, color=tableau20[12])\n"
   ]
  },
  {
   "cell_type": "code",
   "execution_count": 29,
   "metadata": {},
   "outputs": [
    {
     "data": {
      "text/plain": [
       "Text(0.5,1,'Total portfolio size diffrence')"
      ]
     },
     "execution_count": 29,
     "metadata": {},
     "output_type": "execute_result"
    },
    {
     "data": {
      "image/png": "[encoded data removed]",
      "text/plain": [
       "<matplotlib.figure.Figure at 0x11b166208>"
      ]
     },
     "metadata": {},
     "output_type": "display_data"
    }
   ],
   "source": [
    "\n",
    "\n",
    "bar_data_x = [wealth_simple[-1,0], sun_life[-1:,0], Mutual_fund[-1:,0], tangerine[-1:,0],nestwealth[-1:,0],\n",
    "             DIY_ETF[-1:,0], BMO_smartfolio[-1:,0], Questrade_port_iq[-1:,0], wealth_bar[-1:,0],\n",
    "              modern_advisor[-1:,0], Just_wealth_port[-1:,0], invisor[-1:,0], RBC_dom[-1:,0]]\n",
    "\n",
    "Adviosrs = ['Wealth Simple', 'Sun Life', 'Mutual funds', 'Tangerine', 'Nest Wealth',\n",
    "            'DIY ETFs', 'BMO Smartfolio', 'Questrade', 'Wealth Bar', \n",
    "            'Modern Advisor','Just Wealth',  'Invisor', 'RBC']\n",
    "plt.figure(figsize=(18, 12))    \n",
    "y_pos = np.arange(len(Adviosrs))\n",
    " \n",
    "plt.bar(y_pos, bar_data_x, align='center', alpha=0.5, color=\"#3F5D7D\")\n",
    "plt.xticks(y_pos, Adviosrs)\n",
    "plt.ylabel('portfolio values')\n",
    "plt.title('Total portfolio size diffrence')\n",
    " "
   ]
  },
  {
   "cell_type": "code",
   "execution_count": 30,
   "metadata": {},
   "outputs": [
    {
     "data": {
      "text/plain": [
       "[552992.32019795186,\n",
       " array([ 551785.29651271]),\n",
       " array([ 505198.25654842]),\n",
       " array([ 550580.73310756]),\n",
       " array([ 554991.35252362]),\n",
       " array([ 565916.50462347]),\n",
       " array([ 544193.45377935]),\n",
       " array([ 550994.98357078]),\n",
       " array([ 545566.49019515]),\n",
       " array([ 551909.66953662]),\n",
       " array([ 548994.86927701]),\n",
       " array([ 550580.73310756]),\n",
       " array([ 554598.11479845])]"
      ]
     },
     "execution_count": 30,
     "metadata": {},
     "output_type": "execute_result"
    }
   ],
   "source": [
    "bar_data_x"
   ]
  },
  {
   "cell_type": "code",
   "execution_count": null,
   "metadata": {
    "collapsed": true
   },
   "outputs": [],
   "source": []
  },
  {
   "cell_type": "code",
   "execution_count": null,
   "metadata": {
    "collapsed": true
   },
   "outputs": [],
   "source": []
  },
  {
   "cell_type": "code",
   "execution_count": null,
   "metadata": {
    "collapsed": true
   },
   "outputs": [],
   "source": []
  },
  {
   "cell_type": "code",
   "execution_count": null,
   "metadata": {
    "collapsed": true
   },
   "outputs": [],
   "source": []
  },
  {
   "cell_type": "code",
   "execution_count": null,
   "metadata": {
    "collapsed": true
   },
   "outputs": [],
   "source": []
  },
  {
   "cell_type": "code",
   "execution_count": null,
   "metadata": {
    "collapsed": true
   },
   "outputs": [],
   "source": []
  }
 ],
 "metadata": {
  "kernelspec": {
   "display_name": "Python 3",
   "language": "python",
   "name": "python3"
  },
  "language_info": {
   "codemirror_mode": {
    "name": "ipython",
    "version": 3
   },
   "file_extension": ".py",
   "mimetype": "text/x-python",
   "name": "python",
   "nbconvert_exporter": "python",
   "pygments_lexer": "ipython3",
   "version": "3.6.3"
  }
 },
 "nbformat": 4,
 "nbformat_minor": 2
}

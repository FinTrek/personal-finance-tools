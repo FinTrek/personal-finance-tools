{
 "cells": [
  {
   "cell_type": "markdown",
   "metadata": {},
   "source": [
    "# define inputs"
   ]
  },
  {
   "cell_type": "code",
   "execution_count": 42,
   "metadata": {},
   "outputs": [],
   "source": [
    "import matplotlib.pyplot as plt\n",
    "import numpy as np\n",
    "Return = 0.07\n",
    "years = 25\n",
    "starting_tfsa = 5000\n",
    "starting_rrsp = 10000\n",
    "starting_general = 5000"
   ]
  },
  {
   "cell_type": "code",
   "execution_count": 8,
   "metadata": {},
   "outputs": [],
   "source": [
    "def calculate(MER, AMF, balance, Trading_fee, Return):\n",
    "    new = balance*(1 + Return - MER) - AMF - Trading_fee\n",
    "    tot_MER = (balance*(1 + Return) - new)/balance\n",
    "    Tot_return = new/balance\n",
    "    return new, tot_MER, Tot_return;"
   ]
  },
  {
   "cell_type": "code",
   "execution_count": 14,
   "metadata": {},
   "outputs": [
    {
     "name": "stdout",
     "output_type": "stream",
     "text": [
      "(5168.000000000001, 0.03639999999999982, 1.0336)\n"
     ]
    }
   ],
   "source": [
    "x = calculate(0.0064, 100, 5000, 50, Return)\n",
    "print(x)"
   ]
  },
  {
   "cell_type": "code",
   "execution_count": 49,
   "metadata": {},
   "outputs": [],
   "source": [
    "values = np.zeros( (years,3) )\n",
    "values[0] = calculate(0.0064, 100, 5000, 50, Return)\n",
    "for year in range(years):\n",
    "    if year >0:\n",
    "        values[year] = calculate(0.0064, 100, values[year-1,0], 50, Return)\n",
    "    \n",
    "    \n",
    "    \n",
    "    "
   ]
  },
  {
   "cell_type": "code",
   "execution_count": 37,
   "metadata": {
    "scrolled": true
   },
   "outputs": [
    {
     "name": "stdout",
     "output_type": "stream",
     "text": [
      "[[  5.16800000e+03   3.64000000e-02   1.03360000e+00]\n",
      " [  5.34668480e+03   3.54247678e-02   1.03457523e+00]\n",
      " [  5.53673395e+03   3.44547677e-02   1.03554523e+00]\n",
      " [  5.73887023e+03   3.34917839e-02   1.03650822e+00]\n",
      " [  5.95386238e+03   3.25375487e-02   1.03746245e+00]\n",
      " [  6.18252803e+03   3.15937298e-02   1.03840627e+00]\n",
      " [  6.42573681e+03   3.06619199e-02   1.03933808e+00]\n",
      " [  6.68441367e+03   2.97436265e-02   1.04025637e+00]\n",
      " [  6.95954238e+03   2.88402629e-02   1.04115974e+00]\n",
      " [  7.25216928e+03   2.79531413e-02   1.04204686e+00]\n",
      " [  7.56340724e+03   2.70834665e-02   1.04291653e+00]\n",
      " [  7.89443994e+03   2.62323315e-02   1.04376767e+00]\n",
      " [  8.24652632e+03   2.54007146e-02   1.04459929e+00]\n",
      " [  8.62100540e+03   2.45894769e-02   1.04541052e+00]\n",
      " [  9.01930134e+03   2.37993627e-02   1.04620064e+00]\n",
      " [  9.44292890e+03   2.30309999e-02   1.04696900e+00]\n",
      " [  9.89349918e+03   2.22849020e-02   1.04771510e+00]\n",
      " [  1.03727257e+04   2.15614709e-02   1.04843853e+00]\n",
      " [  1.08824311e+04   2.08610013e-02   1.04913900e+00]\n",
      " [  1.14245537e+04   2.01836848e-02   1.04981632e+00]\n",
      " [  1.20011553e+04   1.95296157e-02   1.05047038e+00]\n",
      " [  1.26144288e+04   1.88987967e-02   1.05110120e+00]\n",
      " [  1.32667065e+04   1.82911448e-02   1.05170886e+00]\n",
      " [  1.39604690e+04   1.77064987e-02   1.05229350e+00]\n",
      " [  1.46983548e+04   1.71446247e-02   1.05285538e+00]]\n"
     ]
    }
   ],
   "source": [
    "print(values)"
   ]
  },
  {
   "cell_type": "code",
   "execution_count": 53,
   "metadata": {
    "scrolled": true
   },
   "outputs": [
    {
     "name": "stdout",
     "output_type": "stream",
     "text": [
      "[ 1.0336      1.03457523  1.03554523  1.03650822  1.03746245  1.03840627\n",
      "  1.03933808  1.04025637  1.04115974  1.04204686  1.04291653  1.04376767\n",
      "  1.04459929  1.04541052  1.04620064  1.046969    1.0477151   1.04843853\n",
      "  1.049139    1.04981632  1.05047038  1.0511012   1.05170886  1.0522935\n",
      "  1.05285538]\n"
     ]
    }
   ],
   "source": [
    "print(values[:,2])"
   ]
  },
  {
   "cell_type": "code",
   "execution_count": 52,
   "metadata": {},
   "outputs": [
    {
     "ename": "AttributeError",
     "evalue": "module 'numpy' has no attribute 'year'",
     "output_type": "error",
     "traceback": [
      "\u001b[0;31m---------------------------------------------------------------------------\u001b[0m",
      "\u001b[0;31mAttributeError\u001b[0m                            Traceback (most recent call last)",
      "\u001b[0;32m<ipython-input-52-7122fc65502f>\u001b[0m in \u001b[0;36m<module>\u001b[0;34m()\u001b[0m\n\u001b[0;32m----> 1\u001b[0;31m \u001b[0myear\u001b[0m\u001b[0;34m=\u001b[0m\u001b[0mnp\u001b[0m\u001b[0;34m.\u001b[0m\u001b[0myear\u001b[0m\u001b[0;34m[\u001b[0m\u001b[0;36m1\u001b[0m\u001b[0;34m,\u001b[0m\u001b[0;36m0\u001b[0m\u001b[0;34m:\u001b[0m\u001b[0myear\u001b[0m\u001b[0;34m,\u001b[0m\u001b[0myear\u001b[0m\u001b[0;34m+\u001b[0m\u001b[0;36m1\u001b[0m\u001b[0;34m]\u001b[0m\u001b[0;34m;\u001b[0m\u001b[0;34m\u001b[0m\u001b[0m\n\u001b[0m",
      "\u001b[0;31mAttributeError\u001b[0m: module 'numpy' has no attribute 'year'"
     ]
    }
   ],
   "source": [
    "year=np.year[1,0:year,year+1];"
   ]
  },
  {
   "cell_type": "code",
   "execution_count": 43,
   "metadata": {},
   "outputs": [
    {
     "name": "stderr",
     "output_type": "stream",
     "text": [
      "/Users/winstonfortowsky/anaconda3/lib/python3.6/site-packages/matplotlib/cbook/deprecation.py:106: MatplotlibDeprecationWarning: The set_color_cycle attribute was deprecated in version 1.5. Use set_prop_cycle instead.\n",
      "  warnings.warn(message, mplDeprecation, stacklevel=1)\n"
     ]
    }
   ],
   "source": [
    "plt.gca().set_color_cycle(['red', 'green', 'blue', 'yellow'])"
   ]
  },
  {
   "cell_type": "code",
   "execution_count": 54,
   "metadata": {},
   "outputs": [
    {
     "data": {
      "text/plain": [
       "[<matplotlib.lines.Line2D at 0x11225bcc0>]"
      ]
     },
     "execution_count": 54,
     "metadata": {},
     "output_type": "execute_result"
    }
   ],
   "source": [
    "plt.plot(values[:,1], values[:,2])"
   ]
  },
  {
   "cell_type": "code",
   "execution_count": null,
   "metadata": {
    "collapsed": true
   },
   "outputs": [],
   "source": []
  }
 ],
 "metadata": {
  "kernelspec": {
   "display_name": "Python 3",
   "language": "python",
   "name": "python3"
  },
  "language_info": {
   "codemirror_mode": {
    "name": "ipython",
    "version": 3
   },
   "file_extension": ".py",
   "mimetype": "text/x-python",
   "name": "python",
   "nbconvert_exporter": "python",
   "pygments_lexer": "ipython3",
   "version": "3.6.3"
  }
 },
 "nbformat": 4,
 "nbformat_minor": 2
}
